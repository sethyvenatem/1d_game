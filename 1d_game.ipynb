{
 "cells": [
  {
   "cell_type": "code",
   "execution_count": 15,
   "metadata": {},
   "outputs": [
    {
     "name": "stdout",
     "output_type": "stream",
     "text": [
      "2\n",
      "4\n",
      "6\n",
      "8\n"
     ]
    }
   ],
   "source": [
    "for pos in range(2,10,2):\n",
    "    print(pos)"
   ]
  },
  {
   "cell_type": "code",
   "execution_count": 65,
   "metadata": {},
   "outputs": [
    {
     "name": "stdout",
     "output_type": "stream",
     "text": [
      "The bold text is \u001b[1mP\u001b[0m The bold text is \u001b[1my\u001b[0m\u001b[1mn\u001b[0m\n"
     ]
    },
    {
     "data": {
      "text/plain": [
       "'The bold text is \\x1b[1mP\\x1b[0m The bold text is \\x1b[1my\\x1b[0m\\x1b[1mn\\x1b[0m'"
      ]
     },
     "execution_count": 65,
     "metadata": {},
     "output_type": "execute_result"
    }
   ],
   "source": [
    "test = 'The bold text is \\x1b[1mP\\x1b[0m The bold text is \\x1b[1my\\x1b[0m\\x1b[1mn\\x1b[0m'\n",
    "test2 = 'The bold text is Python'\n",
    "print(test)\n",
    "test"
   ]
  },
  {
   "cell_type": "code",
   "execution_count": 68,
   "metadata": {},
   "outputs": [
    {
     "data": {
      "text/plain": [
       "38"
      ]
     },
     "execution_count": 68,
     "metadata": {},
     "output_type": "execute_result"
    }
   ],
   "source": [
    "len(remove_all_bold(test))"
   ]
  },
  {
   "cell_type": "code",
   "execution_count": 70,
   "metadata": {},
   "outputs": [
    {
     "name": "stdout",
     "output_type": "stream",
     "text": [
      "The bold text is \u001b[1mP\u001b[0m The bold text is \u001b[1my\u001b[0m\u001b[1mn\u001b[0m\n"
     ]
    }
   ],
   "source": [
    "print(make_bold(test,37))"
   ]
  },
  {
   "cell_type": "code",
   "execution_count": 81,
   "metadata": {},
   "outputs": [],
   "source": [
    "def remove_all_bold(string):\n",
    "    string = string.replace('\\x1b[1m','')\n",
    "    string = string.replace('\\x1b[0m','')\n",
    "    return string\n",
    "    \n",
    "def cout_all_bold(string):    \n",
    "    n = 0\n",
    "    ind = string.find('\\x1b[1m')\n",
    "    while ind != -1:\n",
    "        s = list(string)\n",
    "        s[ind] = ''\n",
    "        string = \"\".join(s)\n",
    "        ind = string.find('\\x1b[1m')\n",
    "        n = n+1\n",
    "    return n\n",
    "\n",
    "def find_all_bold(string):\n",
    "    ind = string.find('\\x1b[1m')\n",
    "    \n",
    "    if ind == -1:\n",
    "        n = []\n",
    "    else:\n",
    "        n = [ind]\n",
    "        \n",
    "    while ind != -1:\n",
    "        s = list(string)\n",
    "        s[ind] = ''\n",
    "        s[ind+1] = ''\n",
    "        s[ind+2] = ''\n",
    "        s[ind+3] = ''\n",
    "        s[ind+5] = ''\n",
    "        s[ind+6] = ''\n",
    "        s[ind+7] = ''\n",
    "        s[ind+8] = ''\n",
    "        string = \"\".join(s)\n",
    "        ind = string.find('\\x1b[1m')\n",
    "        if ind != -1:\n",
    "            n.append(ind)\n",
    "    return n\n",
    "    \n",
    "def make_bold(string,n):\n",
    "    #make the nth letter in the string bold\n",
    "    \n",
    "    bolds = find_all_bold(string)\n",
    "    string = remove_all_bold(string)\n",
    "    s = list(string)\n",
    "    s[n] = '\\x1b[1m'+s[n]+'\\x1b[0m'\n",
    "    \n",
    "    for ind in bolds:\n",
    "        if ind != n:\n",
    "            s[ind] = '\\x1b[1m'+s[ind]+'\\x1b[0m'\n",
    "            \n",
    "    return \"\".join(s)\n",
    "\n",
    "def print_sequencially(string,all):\n",
    "    \n",
    "    if all == 0:\n",
    "        print(string)\n",
    "    elif all == 1:\n",
    "        stdout.write(\"\\r\")\n",
    "        stdout.write(string)\n",
    "        stdout.write(\"\\r\")\n",
    "        stdout.flush()\n",
    "    else:\n",
    "        print('What do you want to print')"
   ]
  },
  {
   "cell_type": "code",
   "execution_count": 87,
   "metadata": {},
   "outputs": [
    {
     "name": "stdout",
     "output_type": "stream",
     "text": [
      "x___________________________________________________________________________________________________\u001b[1m>\u001b[0mo\r"
     ]
    }
   ],
   "source": [
    "import time\n",
    "from sys import stdout\n",
    "from time import sleep\n",
    "\n",
    "sleep_time = 0.1\n",
    "string = '_'*100\n",
    "s = list(string)\n",
    "s.append('>o')\n",
    "string = \"\".join(s)\n",
    "l = len(string)\n",
    "proj = 'x'\n",
    "all = 1\n",
    "\n",
    "#for start in range(100):\n",
    "#    print(string)\n",
    "\n",
    "print_sequencially(string,all)\n",
    "time.sleep(sleep_time)\n",
    "\n",
    "s = list(string)\n",
    "s[-1] = 'O'\n",
    "s[-2] = '>'\n",
    "string = \"\".join(s)\n",
    "print_sequencially(string,all)\n",
    "time.sleep(sleep_time)\n",
    "\n",
    "s = list(string)\n",
    "s[-1] = '0'\n",
    "s[-2] = '>'\n",
    "string = \"\".join(s)\n",
    "print_sequencially(string,all)\n",
    "time.sleep(sleep_time)\n",
    "\n",
    "string = make_bold(string,l-1)\n",
    "print_sequencially(string,all)\n",
    "time.sleep(sleep_time)\n",
    "\n",
    "string = remove_all_bold(string)\n",
    "string = make_bold(string,l-2)\n",
    "print_sequencially(string,all)\n",
    "time.sleep(sleep_time)\n",
    "\n",
    "s = list(string)\n",
    "s[l-3] = proj\n",
    "s[-1] = 'O'\n",
    "string = ''.join(s)\n",
    "print_sequencially(string,all)\n",
    "time.sleep(sleep_time)\n",
    "\n",
    "#print('',)\n",
    "#print('', sep='', end='', flush=True)\n",
    "#string = remove_all_bold(string)\n",
    "s = list(string)\n",
    "s[-1] = 'o'\n",
    "s[l-3] = '_'\n",
    "s[l-4] = proj\n",
    "string = \"\".join(s)\n",
    "print_sequencially(string,all)\n",
    "time.sleep(sleep_time)\n",
    "\n",
    "#print_sequencially('',0)\n",
    "sleep_time = 0.05\n",
    "for pos in range(5,l+1,1):\n",
    "    s = list(string)\n",
    "    s[l-pos] = 'x'\n",
    "    s[l-pos+1] = '_'\n",
    "    string = \"\".join(s)\n",
    "    print_sequencially(string,all)\n",
    "    time.sleep(sleep_time)    "
   ]
  },
  {
   "cell_type": "code",
   "execution_count": null,
   "metadata": {},
   "outputs": [],
   "source": [
    "from https://stackoverflow.com/questions/13207678/whats-the-simplest-way-of-detecting-keyboard-input-in-a-script-from-the-termina"
   ]
  },
  {
   "cell_type": "code",
   "execution_count": 8,
   "metadata": {},
   "outputs": [],
   "source": [
    "import select"
   ]
  },
  {
   "cell_type": "code",
   "execution_count": 12,
   "metadata": {},
   "outputs": [
    {
     "data": {
      "text/plain": [
       "([], [], [])"
      ]
     },
     "execution_count": 12,
     "metadata": {},
     "output_type": "execute_result"
    }
   ],
   "source": [
    "test1 = []\n",
    "test2 = []\n",
    "test3 = []\n",
    "select.select(test1, test2, test3, 5)"
   ]
  },
  {
   "cell_type": "code",
   "execution_count": null,
   "metadata": {},
   "outputs": [],
   "source": [
    "https://docs.python.org/3/library/select.html\n",
    "    \n",
    "    poll()\n",
    "    select()"
   ]
  },
  {
   "cell_type": "code",
   "execution_count": 3,
   "metadata": {},
   "outputs": [],
   "source": [
    "import keyboard  # using module keyboard\n",
    "while True:  # making a loop\n",
    "    try:  # used try so that if user pressed other than the given key error will not be shown\n",
    "        if keyboard.is_pressed('q'):  # if key 'q' is pressed \n",
    "            print('You Pressed A Key!')\n",
    "            break  # finishing the loop\n",
    "    except:\n",
    "        break  # if user pressed a key other than the given key the loop will break"
   ]
  },
  {
   "cell_type": "code",
   "execution_count": 1,
   "metadata": {},
   "outputs": [],
   "source": [
    "import keyboard\n",
    "This is the right package. Instructions here\n",
    "https://www.thepythoncode.com/article/control-keyboard-python\n",
    "    https://www.geeksforgeeks.org/keyboard-module-in-python/\n",
    "        \n",
    "        I need to be ablt to run 'as root'"
   ]
  },
  {
   "cell_type": "code",
   "execution_count": 2,
   "metadata": {},
   "outputs": [
    {
     "ename": "ImportError",
     "evalue": "You must be root to use this library on linux.",
     "output_type": "error",
     "traceback": [
      "\u001b[0;31m---------------------------------------------------------------------------\u001b[0m",
      "\u001b[0;31mImportError\u001b[0m                               Traceback (most recent call last)",
      "\u001b[0;32m<ipython-input-2-5f3eebbc4736>\u001b[0m in \u001b[0;36m<module>\u001b[0;34m\u001b[0m\n\u001b[0;32m----> 1\u001b[0;31m \u001b[0mprint\u001b[0m\u001b[0;34m(\u001b[0m\u001b[0mkeyboard\u001b[0m\u001b[0;34m.\u001b[0m\u001b[0mis_pressed\u001b[0m\u001b[0;34m(\u001b[0m\u001b[0;34m'ctrl'\u001b[0m\u001b[0;34m)\u001b[0m\u001b[0;34m)\u001b[0m\u001b[0;34m\u001b[0m\u001b[0;34m\u001b[0m\u001b[0m\n\u001b[0m",
      "\u001b[0;32m~/anaconda3/lib/python3.8/site-packages/keyboard/__init__.py\u001b[0m in \u001b[0;36mis_pressed\u001b[0;34m(hotkey)\u001b[0m\n\u001b[1;32m    408\u001b[0m         \u001b[0mis_pressed\u001b[0m\u001b[0;34m(\u001b[0m\u001b[0;34m'ctrl+space'\u001b[0m\u001b[0;34m)\u001b[0m \u001b[0;31m#-> True\u001b[0m\u001b[0;34m\u001b[0m\u001b[0;34m\u001b[0m\u001b[0m\n\u001b[1;32m    409\u001b[0m     \"\"\"\n\u001b[0;32m--> 410\u001b[0;31m     \u001b[0m_listener\u001b[0m\u001b[0;34m.\u001b[0m\u001b[0mstart_if_necessary\u001b[0m\u001b[0;34m(\u001b[0m\u001b[0;34m)\u001b[0m\u001b[0;34m\u001b[0m\u001b[0;34m\u001b[0m\u001b[0m\n\u001b[0m\u001b[1;32m    411\u001b[0m \u001b[0;34m\u001b[0m\u001b[0m\n\u001b[1;32m    412\u001b[0m     \u001b[0;32mif\u001b[0m \u001b[0m_is_number\u001b[0m\u001b[0;34m(\u001b[0m\u001b[0mhotkey\u001b[0m\u001b[0;34m)\u001b[0m\u001b[0;34m:\u001b[0m\u001b[0;34m\u001b[0m\u001b[0;34m\u001b[0m\u001b[0m\n",
      "\u001b[0;32m~/anaconda3/lib/python3.8/site-packages/keyboard/_generic.py\u001b[0m in \u001b[0;36mstart_if_necessary\u001b[0;34m(self)\u001b[0m\n\u001b[1;32m     33\u001b[0m         \u001b[0;32mtry\u001b[0m\u001b[0;34m:\u001b[0m\u001b[0;34m\u001b[0m\u001b[0;34m\u001b[0m\u001b[0m\n\u001b[1;32m     34\u001b[0m             \u001b[0;32mif\u001b[0m \u001b[0;32mnot\u001b[0m \u001b[0mself\u001b[0m\u001b[0;34m.\u001b[0m\u001b[0mlistening\u001b[0m\u001b[0;34m:\u001b[0m\u001b[0;34m\u001b[0m\u001b[0;34m\u001b[0m\u001b[0m\n\u001b[0;32m---> 35\u001b[0;31m                 \u001b[0mself\u001b[0m\u001b[0;34m.\u001b[0m\u001b[0minit\u001b[0m\u001b[0;34m(\u001b[0m\u001b[0;34m)\u001b[0m\u001b[0;34m\u001b[0m\u001b[0;34m\u001b[0m\u001b[0m\n\u001b[0m\u001b[1;32m     36\u001b[0m \u001b[0;34m\u001b[0m\u001b[0m\n\u001b[1;32m     37\u001b[0m                 \u001b[0mself\u001b[0m\u001b[0;34m.\u001b[0m\u001b[0mlistening\u001b[0m \u001b[0;34m=\u001b[0m \u001b[0;32mTrue\u001b[0m\u001b[0;34m\u001b[0m\u001b[0;34m\u001b[0m\u001b[0m\n",
      "\u001b[0;32m~/anaconda3/lib/python3.8/site-packages/keyboard/__init__.py\u001b[0m in \u001b[0;36minit\u001b[0;34m(self)\u001b[0m\n\u001b[1;32m    194\u001b[0m \u001b[0;34m\u001b[0m\u001b[0m\n\u001b[1;32m    195\u001b[0m     \u001b[0;32mdef\u001b[0m \u001b[0minit\u001b[0m\u001b[0;34m(\u001b[0m\u001b[0mself\u001b[0m\u001b[0;34m)\u001b[0m\u001b[0;34m:\u001b[0m\u001b[0;34m\u001b[0m\u001b[0;34m\u001b[0m\u001b[0m\n\u001b[0;32m--> 196\u001b[0;31m         \u001b[0m_os_keyboard\u001b[0m\u001b[0;34m.\u001b[0m\u001b[0minit\u001b[0m\u001b[0;34m(\u001b[0m\u001b[0;34m)\u001b[0m\u001b[0;34m\u001b[0m\u001b[0;34m\u001b[0m\u001b[0m\n\u001b[0m\u001b[1;32m    197\u001b[0m \u001b[0;34m\u001b[0m\u001b[0m\n\u001b[1;32m    198\u001b[0m         \u001b[0mself\u001b[0m\u001b[0;34m.\u001b[0m\u001b[0mactive_modifiers\u001b[0m \u001b[0;34m=\u001b[0m \u001b[0mset\u001b[0m\u001b[0;34m(\u001b[0m\u001b[0;34m)\u001b[0m\u001b[0;34m\u001b[0m\u001b[0;34m\u001b[0m\u001b[0m\n",
      "\u001b[0;32m~/anaconda3/lib/python3.8/site-packages/keyboard/_nixkeyboard.py\u001b[0m in \u001b[0;36minit\u001b[0;34m()\u001b[0m\n\u001b[1;32m    111\u001b[0m \u001b[0;34m\u001b[0m\u001b[0m\n\u001b[1;32m    112\u001b[0m \u001b[0;32mdef\u001b[0m \u001b[0minit\u001b[0m\u001b[0;34m(\u001b[0m\u001b[0;34m)\u001b[0m\u001b[0;34m:\u001b[0m\u001b[0;34m\u001b[0m\u001b[0;34m\u001b[0m\u001b[0m\n\u001b[0;32m--> 113\u001b[0;31m     \u001b[0mbuild_device\u001b[0m\u001b[0;34m(\u001b[0m\u001b[0;34m)\u001b[0m\u001b[0;34m\u001b[0m\u001b[0;34m\u001b[0m\u001b[0m\n\u001b[0m\u001b[1;32m    114\u001b[0m     \u001b[0mbuild_tables\u001b[0m\u001b[0;34m(\u001b[0m\u001b[0;34m)\u001b[0m\u001b[0;34m\u001b[0m\u001b[0;34m\u001b[0m\u001b[0m\n\u001b[1;32m    115\u001b[0m \u001b[0;34m\u001b[0m\u001b[0m\n",
      "\u001b[0;32m~/anaconda3/lib/python3.8/site-packages/keyboard/_nixkeyboard.py\u001b[0m in \u001b[0;36mbuild_device\u001b[0;34m()\u001b[0m\n\u001b[1;32m    107\u001b[0m     \u001b[0;32mglobal\u001b[0m \u001b[0mdevice\u001b[0m\u001b[0;34m\u001b[0m\u001b[0;34m\u001b[0m\u001b[0m\n\u001b[1;32m    108\u001b[0m     \u001b[0;32mif\u001b[0m \u001b[0mdevice\u001b[0m\u001b[0;34m:\u001b[0m \u001b[0;32mreturn\u001b[0m\u001b[0;34m\u001b[0m\u001b[0;34m\u001b[0m\u001b[0m\n\u001b[0;32m--> 109\u001b[0;31m     \u001b[0mensure_root\u001b[0m\u001b[0;34m(\u001b[0m\u001b[0;34m)\u001b[0m\u001b[0;34m\u001b[0m\u001b[0;34m\u001b[0m\u001b[0m\n\u001b[0m\u001b[1;32m    110\u001b[0m     \u001b[0mdevice\u001b[0m \u001b[0;34m=\u001b[0m \u001b[0maggregate_devices\u001b[0m\u001b[0;34m(\u001b[0m\u001b[0;34m'kbd'\u001b[0m\u001b[0;34m)\u001b[0m\u001b[0;34m\u001b[0m\u001b[0;34m\u001b[0m\u001b[0m\n\u001b[1;32m    111\u001b[0m \u001b[0;34m\u001b[0m\u001b[0m\n",
      "\u001b[0;32m~/anaconda3/lib/python3.8/site-packages/keyboard/_nixcommon.py\u001b[0m in \u001b[0;36mensure_root\u001b[0;34m()\u001b[0m\n\u001b[1;32m    172\u001b[0m \u001b[0;32mdef\u001b[0m \u001b[0mensure_root\u001b[0m\u001b[0;34m(\u001b[0m\u001b[0;34m)\u001b[0m\u001b[0;34m:\u001b[0m\u001b[0;34m\u001b[0m\u001b[0;34m\u001b[0m\u001b[0m\n\u001b[1;32m    173\u001b[0m     \u001b[0;32mif\u001b[0m \u001b[0mos\u001b[0m\u001b[0;34m.\u001b[0m\u001b[0mgeteuid\u001b[0m\u001b[0;34m(\u001b[0m\u001b[0;34m)\u001b[0m \u001b[0;34m!=\u001b[0m \u001b[0;36m0\u001b[0m\u001b[0;34m:\u001b[0m\u001b[0;34m\u001b[0m\u001b[0;34m\u001b[0m\u001b[0m\n\u001b[0;32m--> 174\u001b[0;31m         \u001b[0;32mraise\u001b[0m \u001b[0mImportError\u001b[0m\u001b[0;34m(\u001b[0m\u001b[0;34m'You must be root to use this library on linux.'\u001b[0m\u001b[0;34m)\u001b[0m\u001b[0;34m\u001b[0m\u001b[0;34m\u001b[0m\u001b[0m\n\u001b[0m",
      "\u001b[0;31mImportError\u001b[0m: You must be root to use this library on linux."
     ]
    }
   ],
   "source": [
    "print(keyboard.is_pressed('ctrl'))"
   ]
  },
  {
   "cell_type": "code",
   "execution_count": 1,
   "metadata": {},
   "outputs": [
    {
     "ename": "ImportError",
     "evalue": "You must be root to use this library on linux.",
     "output_type": "error",
     "traceback": [
      "\u001b[0;31m---------------------------------------------------------------------------\u001b[0m",
      "\u001b[0;31mImportError\u001b[0m                               Traceback (most recent call last)",
      "\u001b[0;32m<ipython-input-1-67ab29ea9958>\u001b[0m in \u001b[0;36m<module>\u001b[0;34m\u001b[0m\n\u001b[1;32m      3\u001b[0m \u001b[0;34m\u001b[0m\u001b[0m\n\u001b[1;32m      4\u001b[0m \u001b[0;31m# It writes the content to output\u001b[0m\u001b[0;34m\u001b[0m\u001b[0;34m\u001b[0m\u001b[0;34m\u001b[0m\u001b[0m\n\u001b[0;32m----> 5\u001b[0;31m \u001b[0mkeyboard\u001b[0m\u001b[0;34m.\u001b[0m\u001b[0mwrite\u001b[0m\u001b[0;34m(\u001b[0m\u001b[0;34m\"GEEKS FOR GEEKS\\n\"\u001b[0m\u001b[0;34m)\u001b[0m\u001b[0;34m\u001b[0m\u001b[0;34m\u001b[0m\u001b[0m\n\u001b[0m\u001b[1;32m      6\u001b[0m \u001b[0;34m\u001b[0m\u001b[0m\n\u001b[1;32m      7\u001b[0m \u001b[0;31m# It writes the keys r, k and endofline\u001b[0m\u001b[0;34m\u001b[0m\u001b[0;34m\u001b[0m\u001b[0;34m\u001b[0m\u001b[0m\n",
      "\u001b[0;32m~/anaconda3/lib/python3.8/site-packages/keyboard/__init__.py\u001b[0m in \u001b[0;36mwrite\u001b[0;34m(text, delay, restore_state_after, exact)\u001b[0m\n\u001b[1;32m    852\u001b[0m             \u001b[0;32mtry\u001b[0m\u001b[0;34m:\u001b[0m\u001b[0;34m\u001b[0m\u001b[0;34m\u001b[0m\u001b[0m\n\u001b[1;32m    853\u001b[0m                 \u001b[0mentries\u001b[0m \u001b[0;34m=\u001b[0m \u001b[0m_os_keyboard\u001b[0m\u001b[0;34m.\u001b[0m\u001b[0mmap_name\u001b[0m\u001b[0;34m(\u001b[0m\u001b[0mnormalize_name\u001b[0m\u001b[0;34m(\u001b[0m\u001b[0mletter\u001b[0m\u001b[0;34m)\u001b[0m\u001b[0;34m)\u001b[0m\u001b[0;34m\u001b[0m\u001b[0;34m\u001b[0m\u001b[0m\n\u001b[0;32m--> 854\u001b[0;31m                 \u001b[0mscan_code\u001b[0m\u001b[0;34m,\u001b[0m \u001b[0mmodifiers\u001b[0m \u001b[0;34m=\u001b[0m \u001b[0mnext\u001b[0m\u001b[0;34m(\u001b[0m\u001b[0miter\u001b[0m\u001b[0;34m(\u001b[0m\u001b[0mentries\u001b[0m\u001b[0;34m)\u001b[0m\u001b[0;34m)\u001b[0m\u001b[0;34m\u001b[0m\u001b[0;34m\u001b[0m\u001b[0m\n\u001b[0m\u001b[1;32m    855\u001b[0m             \u001b[0;32mexcept\u001b[0m \u001b[0;34m(\u001b[0m\u001b[0mKeyError\u001b[0m\u001b[0;34m,\u001b[0m \u001b[0mValueError\u001b[0m\u001b[0;34m)\u001b[0m\u001b[0;34m:\u001b[0m\u001b[0;34m\u001b[0m\u001b[0;34m\u001b[0m\u001b[0m\n\u001b[1;32m    856\u001b[0m                 \u001b[0m_os_keyboard\u001b[0m\u001b[0;34m.\u001b[0m\u001b[0mtype_unicode\u001b[0m\u001b[0;34m(\u001b[0m\u001b[0mletter\u001b[0m\u001b[0;34m)\u001b[0m\u001b[0;34m\u001b[0m\u001b[0;34m\u001b[0m\u001b[0m\n",
      "\u001b[0;32m~/anaconda3/lib/python3.8/site-packages/keyboard/_nixkeyboard.py\u001b[0m in \u001b[0;36mmap_name\u001b[0;34m(name)\u001b[0m\n\u001b[1;32m    146\u001b[0m \u001b[0;34m\u001b[0m\u001b[0m\n\u001b[1;32m    147\u001b[0m \u001b[0;32mdef\u001b[0m \u001b[0mmap_name\u001b[0m\u001b[0;34m(\u001b[0m\u001b[0mname\u001b[0m\u001b[0;34m)\u001b[0m\u001b[0;34m:\u001b[0m\u001b[0;34m\u001b[0m\u001b[0;34m\u001b[0m\u001b[0m\n\u001b[0;32m--> 148\u001b[0;31m     \u001b[0mbuild_tables\u001b[0m\u001b[0;34m(\u001b[0m\u001b[0;34m)\u001b[0m\u001b[0;34m\u001b[0m\u001b[0;34m\u001b[0m\u001b[0m\n\u001b[0m\u001b[1;32m    149\u001b[0m     \u001b[0;32mfor\u001b[0m \u001b[0mentry\u001b[0m \u001b[0;32min\u001b[0m \u001b[0mfrom_name\u001b[0m\u001b[0;34m[\u001b[0m\u001b[0mname\u001b[0m\u001b[0;34m]\u001b[0m\u001b[0;34m:\u001b[0m\u001b[0;34m\u001b[0m\u001b[0;34m\u001b[0m\u001b[0m\n\u001b[1;32m    150\u001b[0m         \u001b[0;32myield\u001b[0m \u001b[0mentry\u001b[0m\u001b[0;34m\u001b[0m\u001b[0;34m\u001b[0m\u001b[0m\n",
      "\u001b[0;32m~/anaconda3/lib/python3.8/site-packages/keyboard/_nixkeyboard.py\u001b[0m in \u001b[0;36mbuild_tables\u001b[0;34m()\u001b[0m\n\u001b[1;32m     62\u001b[0m \u001b[0;32mdef\u001b[0m \u001b[0mbuild_tables\u001b[0m\u001b[0;34m(\u001b[0m\u001b[0;34m)\u001b[0m\u001b[0;34m:\u001b[0m\u001b[0;34m\u001b[0m\u001b[0;34m\u001b[0m\u001b[0m\n\u001b[1;32m     63\u001b[0m     \u001b[0;32mif\u001b[0m \u001b[0mto_name\u001b[0m \u001b[0;32mand\u001b[0m \u001b[0mfrom_name\u001b[0m\u001b[0;34m:\u001b[0m \u001b[0;32mreturn\u001b[0m\u001b[0;34m\u001b[0m\u001b[0;34m\u001b[0m\u001b[0m\n\u001b[0;32m---> 64\u001b[0;31m     \u001b[0mensure_root\u001b[0m\u001b[0;34m(\u001b[0m\u001b[0;34m)\u001b[0m\u001b[0;34m\u001b[0m\u001b[0;34m\u001b[0m\u001b[0m\n\u001b[0m\u001b[1;32m     65\u001b[0m \u001b[0;34m\u001b[0m\u001b[0m\n\u001b[1;32m     66\u001b[0m     modifiers_bits = {\n",
      "\u001b[0;32m~/anaconda3/lib/python3.8/site-packages/keyboard/_nixcommon.py\u001b[0m in \u001b[0;36mensure_root\u001b[0;34m()\u001b[0m\n\u001b[1;32m    172\u001b[0m \u001b[0;32mdef\u001b[0m \u001b[0mensure_root\u001b[0m\u001b[0;34m(\u001b[0m\u001b[0;34m)\u001b[0m\u001b[0;34m:\u001b[0m\u001b[0;34m\u001b[0m\u001b[0;34m\u001b[0m\u001b[0m\n\u001b[1;32m    173\u001b[0m     \u001b[0;32mif\u001b[0m \u001b[0mos\u001b[0m\u001b[0;34m.\u001b[0m\u001b[0mgeteuid\u001b[0m\u001b[0;34m(\u001b[0m\u001b[0;34m)\u001b[0m \u001b[0;34m!=\u001b[0m \u001b[0;36m0\u001b[0m\u001b[0;34m:\u001b[0m\u001b[0;34m\u001b[0m\u001b[0;34m\u001b[0m\u001b[0m\n\u001b[0;32m--> 174\u001b[0;31m         \u001b[0;32mraise\u001b[0m \u001b[0mImportError\u001b[0m\u001b[0;34m(\u001b[0m\u001b[0;34m'You must be root to use this library on linux.'\u001b[0m\u001b[0;34m)\u001b[0m\u001b[0;34m\u001b[0m\u001b[0;34m\u001b[0m\u001b[0m\n\u001b[0m",
      "\u001b[0;31mImportError\u001b[0m: You must be root to use this library on linux."
     ]
    }
   ],
   "source": [
    "# Using Keyboard module in Python\n",
    "import keyboard\n",
    "  \n",
    "# It writes the content to output\n",
    "keyboard.write(\"GEEKS FOR GEEKS\\n\")\n",
    "  \n",
    "# It writes the keys r, k and endofline \n",
    "keyboard.press_and_release('shift + r, shift + k, \\n')\n",
    "keyboard.press_and_release('R, K')\n",
    "  \n",
    "# it blocks until ctrl is pressed\n",
    "keyboard.wait('Ctrl')"
   ]
  },
  {
   "cell_type": "code",
   "execution_count": null,
   "metadata": {},
   "outputs": [],
   "source": []
  }
 ],
 "metadata": {
  "kernelspec": {
   "display_name": "Python 3",
   "language": "python",
   "name": "python3"
  },
  "language_info": {
   "codemirror_mode": {
    "name": "ipython",
    "version": 3
   },
   "file_extension": ".py",
   "mimetype": "text/x-python",
   "name": "python",
   "nbconvert_exporter": "python",
   "pygments_lexer": "ipython3",
   "version": "3.8.5"
  }
 },
 "nbformat": 4,
 "nbformat_minor": 4
}
